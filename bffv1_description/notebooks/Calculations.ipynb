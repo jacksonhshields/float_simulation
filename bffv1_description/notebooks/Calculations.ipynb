{
 "cells": [
  {
   "cell_type": "markdown",
   "metadata": {},
   "source": [
    "# Calculations\n",
    "\n",
    "This notebook calculates the parameters used for the imaging float gazebo description"
   ]
  },
  {
   "cell_type": "code",
   "execution_count": null,
   "metadata": {},
   "outputs": [],
   "source": [
    "import numpy as np"
   ]
  },
  {
   "cell_type": "markdown",
   "metadata": {},
   "source": [
    "## Parameters\n",
    "Enter the parameters used in these calculations in the cell below"
   ]
  },
  {
   "cell_type": "code",
   "execution_count": null,
   "metadata": {},
   "outputs": [],
   "source": [
    "mass = 6.25  # kg.\n",
    "height = 0.6 # m\n",
    "diameter = 0.1016 # m (4\" tube)\n",
    "radius = diameter/2\n",
    "rho = 1028"
   ]
  },
  {
   "cell_type": "markdown",
   "metadata": {},
   "source": [
    "## Moment of Inertia Matrix\n",
    "The following cell calculates the moment of intertia matrix for a cylinder.\n",
    "\n",
    "Source: http://scienceworld.wolfram.com/physics/MomentofInertiaCylinder.html"
   ]
  },
  {
   "cell_type": "code",
   "execution_count": null,
   "metadata": {},
   "outputs": [],
   "source": [
    "def calc_ixx_iyy(m, h, r):\n",
    "    return 1/12 * m * h **2 + 1/4 * m * r**2\n",
    "def calc_izz(m,h,r):\n",
    "    return 0.5*m*r**2\n",
    "\n",
    "I = np.zeros((3,3))\n",
    "I[0,0] = calc_ixx_iyy(mass, height, diameter/2)\n",
    "I[1,1] = calc_ixx_iyy(mass, height, diameter/2)\n",
    "I[2,2] = calc_izz(mass, height, diameter/2)\n",
    "print(I)"
   ]
  },
  {
   "cell_type": "markdown",
   "metadata": {},
   "source": [
    "## Volume"
   ]
  },
  {
   "cell_type": "code",
   "execution_count": null,
   "metadata": {},
   "outputs": [],
   "source": [
    "volume = np.pi * (radius**2) * height\n",
    "print(\"Volume\", volume)"
   ]
  },
  {
   "cell_type": "markdown",
   "metadata": {},
   "source": [
    "# Added Mass\n"
   ]
  },
  {
   "cell_type": "code",
   "execution_count": null,
   "metadata": {},
   "outputs": [],
   "source": [
    "M = [[0, np.pi * (radius**2) * height * rho, 0, 0, 0, 0],\n",
    "     [0, 0, np.pi * (radius**2) * height * rho, 0, 0, 0],\n",
    "     [0.1 * mass, 0, 0, 0, 0, 0],\n",
    "     [0, 0, 0, 0, (1/12) * np.pi * rho * (radius**2) * height * 3, 0],\n",
    "     [0, 0, 0, 0, (1/12) * np.pi * rho * (radius**2) * height * 3, 0],\n",
    "     [0, 0, 0, 0, 0, 0]]\n",
    "M = np.array(M)\n"
   ]
  },
  {
   "cell_type": "code",
   "execution_count": null,
   "metadata": {},
   "outputs": [],
   "source": []
  },
  {
   "cell_type": "markdown",
   "metadata": {},
   "source": [
    "## Added Mass\n",
    "Tom's Method. Converted from his matlab code."
   ]
  },
  {
   "cell_type": "code",
   "execution_count": null,
   "metadata": {},
   "outputs": [],
   "source": [
    "wp=0.1 #width of pontoon\n",
    "lp=0.2 #length of pontoon\n",
    "hp=0.0207 #height of pontoon\n",
    "d=0.108 #diameter of cylinder\n",
    "RoW=1025 #density of seawater\n",
    "D=0.628 #draft\n",
    "A=np.pi*(d/2)**2 #water[plane area\n",
    "                     \n",
    "g=9.81;\n",
    "# V=(pi*(d/2)^2*D)+wp*lp*hp; # displaced volume\n",
    "M=mass; # mass of float\n",
    "V=M/1025;\n",
    "\n",
    "Cap=[1.14, 1.21, 1.36, 1.51, 1.7, 1.98, 2.23];\n",
    "ba=[10., 5., 2., 1., 0.5, 0.2, 0.1];\n",
    "Ca=np.interp(((wp/2)/(hp/2)),ba,Cap,);\n",
    "A33_p=Ca*RoW*(lp)*np.pi*(wp/2)**2;\n",
    "ha=[0.1, 0.2, 0.4, 0.6, 0.8, 1, 1.5, 2., 4., 6., 8., 10.];\n",
    "k33=[8.725, 3.894, 1.885, 1.277, 0.904, 0.714, 0.464, 0.34, 0.162, 0.102, 0.075, 0.057];\n",
    "Ca=np.interp(D/(d/2),ha,k33,);\n",
    "Ca=0.1;\n",
    "A33_c=Ca*RoW*D*(A/6);\n",
    "A33=A33_p+A33_c;\n",
    "T33=2*np.pi*np.sqrt((M+A33)/(RoW*g*A))\n",
    "Ix4=0.167; # kg.m^2\n",
    "Ix5=0.169; # kg.m^2\n",
    "r44=np.sqrt(Ix4/(M));  # roll radius of gyration\n",
    "r55=np.sqrt(Ix5/(M));  # pitch radius of gyration\n",
    "A44=A33_c*(np.sqrt(0.096)+2*A33_p*np.sqrt(0.042));\n",
    "A55=A33_c*(np.sqrt(0.096)+2*A33_p*np.sqrt(0.042));\n"
   ]
  },
  {
   "cell_type": "code",
   "execution_count": null,
   "metadata": {},
   "outputs": [],
   "source": [
    "A33"
   ]
  },
  {
   "cell_type": "code",
   "execution_count": null,
   "metadata": {},
   "outputs": [],
   "source": [
    "A44"
   ]
  },
  {
   "cell_type": "code",
   "execution_count": null,
   "metadata": {},
   "outputs": [],
   "source": [
    "A55"
   ]
  },
  {
   "cell_type": "code",
   "execution_count": null,
   "metadata": {},
   "outputs": [],
   "source": []
  }
 ],
 "metadata": {
  "kernelspec": {
   "display_name": "Python 3",
   "language": "python",
   "name": "python3"
  },
  "language_info": {
   "codemirror_mode": {
    "name": "ipython",
    "version": 3
   },
   "file_extension": ".py",
   "mimetype": "text/x-python",
   "name": "python",
   "nbconvert_exporter": "python",
   "pygments_lexer": "ipython3",
   "version": "3.7.6"
  }
 },
 "nbformat": 4,
 "nbformat_minor": 4
}
