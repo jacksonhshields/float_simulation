{
 "cells": [
  {
   "cell_type": "markdown",
   "metadata": {},
   "source": [
    "# Calculations\n",
    "\n",
    "This notebook calculates the parameters used for the imaging float gazebo description"
   ]
  },
  {
   "cell_type": "code",
   "execution_count": 2,
   "metadata": {
    "ExecuteTime": {
     "end_time": "2019-10-09T04:42:50.350199Z",
     "start_time": "2019-10-09T04:42:50.234057Z"
    }
   },
   "outputs": [],
   "source": [
    "import numpy as np"
   ]
  },
  {
   "cell_type": "markdown",
   "metadata": {},
   "source": [
    "## Parameters\n",
    "Enter the parameters used in these calculations in the cell below"
   ]
  },
  {
   "cell_type": "code",
   "execution_count": 3,
   "metadata": {
    "ExecuteTime": {
     "end_time": "2019-10-09T04:36:50.125974Z",
     "start_time": "2019-10-09T04:36:50.122913Z"
    }
   },
   "outputs": [],
   "source": [
    "mass = 6.25  # kg.\n",
    "height = 0.6 # m\n",
    "diameter = 0.1016 # m (4\" tube)\n",
    "radius = diameter/2\n",
    "rho = 1028"
   ]
  },
  {
   "cell_type": "markdown",
   "metadata": {},
   "source": [
    "## Moment of Inertia Matrix\n",
    "The following cell calculates the moment of intertia matrix for a cylinder.\n",
    "\n",
    "Source: http://scienceworld.wolfram.com/physics/MomentofInertiaCylinder.html"
   ]
  },
  {
   "cell_type": "code",
   "execution_count": 4,
   "metadata": {
    "ExecuteTime": {
     "end_time": "2019-10-09T04:42:58.785481Z",
     "start_time": "2019-10-09T04:42:58.778043Z"
    }
   },
   "outputs": [
    {
     "name": "stdout",
     "output_type": "stream",
     "text": [
      "[[0.19153225 0.         0.        ]\n",
      " [0.         0.19153225 0.        ]\n",
      " [0.         0.         0.0080645 ]]\n"
     ]
    }
   ],
   "source": [
    "def calc_ixx_iyy(m, h, r):\n",
    "    return 1/12 * m * h **2 + 1/4 * m * r**2\n",
    "def calc_izz(m,h,r):\n",
    "    return 0.5*m*r**2\n",
    "\n",
    "I = np.zeros((3,3))\n",
    "I[0,0] = calc_ixx_iyy(mass, height, diameter/2)\n",
    "I[1,1] = calc_ixx_iyy(mass, height, diameter/2)\n",
    "I[2,2] = calc_izz(mass, height, diameter/2)\n",
    "print(I)"
   ]
  },
  {
   "cell_type": "markdown",
   "metadata": {},
   "source": [
    "## Volume"
   ]
  },
  {
   "cell_type": "code",
   "execution_count": 9,
   "metadata": {
    "ExecuteTime": {
     "end_time": "2019-10-09T04:46:27.613568Z",
     "start_time": "2019-10-09T04:46:27.608928Z"
    }
   },
   "outputs": [
    {
     "name": "stdout",
     "output_type": "stream",
     "text": [
      "Volume 0.004864391799335978\n"
     ]
    }
   ],
   "source": [
    "volume = np.pi * (radius**2) * height\n",
    "print(\"Volume\", volume)"
   ]
  },
  {
   "cell_type": "markdown",
   "metadata": {},
   "source": [
    "# Added Mass\n"
   ]
  },
  {
   "cell_type": "code",
   "execution_count": 23,
   "metadata": {},
   "outputs": [],
   "source": [
    "M = [[0, np.pi * (radius**2) * height * rho, 0, 0, 0, 0],\n",
    "     [0, 0, np.pi * (radius**2) * height * rho, 0, 0, 0],\n",
    "     [0.1 * mass, 0, 0, 0, 0, 0],\n",
    "     [0, 0, 0, 0, (1/12) * np.pi * rho * (radius**2) * height * 3, 0],\n",
    "     [0, 0, 0, 0, (1/12) * np.pi * rho * (radius**2) * height * 3, 0],\n",
    "     [0, 0, 0, 0, 0, 0]]\n",
    "M = np.array(M)\n"
   ]
  },
  {
   "cell_type": "code",
   "execution_count": 14,
   "metadata": {},
   "outputs": [
    {
     "data": {
      "text/plain": [
       "[[0, 5.000594769717385, 0, 0, 0, 0],\n",
       " [0, 0, 5.000594769717385, 0, 0, 0],\n",
       " [0.625, 0, 0, 0, 0, 0],\n",
       " [0, 0, 0, 0, 1.2501486924293461, 0],\n",
       " [0, 0, 0, 0, 1.2501486924293461, 0],\n",
       " [0, 0, 0, 0, 0, 0]]"
      ]
     },
     "execution_count": 14,
     "metadata": {},
     "output_type": "execute_result"
    }
   ],
   "source": []
  },
  {
   "cell_type": "code",
   "execution_count": null,
   "metadata": {},
   "outputs": [],
   "source": []
  }
 ],
 "metadata": {
  "kernelspec": {
   "display_name": "Python 3",
   "language": "python",
   "name": "python3"
  },
  "language_info": {
   "codemirror_mode": {
    "name": "ipython",
    "version": 3
   },
   "file_extension": ".py",
   "mimetype": "text/x-python",
   "name": "python",
   "nbconvert_exporter": "python",
   "pygments_lexer": "ipython3",
   "version": "3.6.9"
  }
 },
 "nbformat": 4,
 "nbformat_minor": 4
}
